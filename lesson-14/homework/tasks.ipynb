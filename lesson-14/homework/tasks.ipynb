{
 "cells": [
  {
   "cell_type": "markdown",
   "metadata": {},
   "source": [
    "Task 1"
   ]
  },
  {
   "cell_type": "code",
   "execution_count": 4,
   "metadata": {},
   "outputs": [
    {
     "name": "stdout",
     "output_type": "stream",
     "text": [
      "[  0.          20.          37.77777778 100.          25.        ]\n"
     ]
    }
   ],
   "source": [
    "import numpy as np\n",
    "@np.vectorize\n",
    "def to_Celcius(arr):\n",
    "    arr_c = (arr - 32) * 5/9\n",
    "    return arr_c\n",
    "arr = np.array([32, 68, 100, 212, 77])\n",
    "print(to_Celcius(arr))"
   ]
  },
  {
   "cell_type": "markdown",
   "metadata": {},
   "source": [
    "Task 2"
   ]
  },
  {
   "cell_type": "code",
   "execution_count": 5,
   "metadata": {},
   "outputs": [
    {
     "name": "stdout",
     "output_type": "stream",
     "text": [
      "[  2   9  64 625]\n"
     ]
    }
   ],
   "source": [
    "@np.vectorize\n",
    "def power_of_number(arr1, arr2):\n",
    "    arr3 = arr1 ** arr2\n",
    "    return arr3\n",
    "\n",
    "arr1 = np.array([2, 3, 4, 5])\n",
    "arr2 = np.array([1, 2, 3, 4])\n",
    "print(power_of_number(arr1, arr2))"
   ]
  },
  {
   "cell_type": "markdown",
   "metadata": {},
   "source": [
    "Task 3"
   ]
  },
  {
   "cell_type": "code",
   "execution_count": 3,
   "metadata": {},
   "outputs": [
    {
     "name": "stdout",
     "output_type": "stream",
     "text": [
      "[ 1.7027027   0.62162162 -0.48648649]\n"
     ]
    }
   ],
   "source": [
    "import numpy as np\n",
    "arr3 = np.array([\n",
    "    [4,5,6],\n",
    "    [3,-1,1],\n",
    "    [2,1,-2]\n",
    "])\n",
    "\n",
    "arr4 = np.array([7,4,5])\n",
    "\n",
    "result3 = np.linalg.solve(arr3, arr4)\n",
    "print(result3)"
   ]
  },
  {
   "cell_type": "markdown",
   "metadata": {},
   "source": [
    "Task 4"
   ]
  },
  {
   "cell_type": "code",
   "execution_count": 4,
   "metadata": {},
   "outputs": [
    {
     "name": "stdout",
     "output_type": "stream",
     "text": [
      "[ 0.48963731 -0.2253886   2.21761658]\n"
     ]
    }
   ],
   "source": [
    "arr4_1 = np.array([\n",
    "    [10,-2,3],\n",
    "    [-2,8,-1],\n",
    "    [3,-1,6]\n",
    "])\n",
    "\n",
    "arr4_2 = np.array([12,-5, 15])\n",
    "result4 = np.linalg.solve(arr4_1, arr4_2)\n",
    "print(result4)"
   ]
  }
 ],
 "metadata": {
  "kernelspec": {
   "display_name": "Python 3",
   "language": "python",
   "name": "python3"
  },
  "language_info": {
   "codemirror_mode": {
    "name": "ipython",
    "version": 3
   },
   "file_extension": ".py",
   "mimetype": "text/x-python",
   "name": "python",
   "nbconvert_exporter": "python",
   "pygments_lexer": "ipython3",
   "version": "3.12.2"
  }
 },
 "nbformat": 4,
 "nbformat_minor": 2
}
