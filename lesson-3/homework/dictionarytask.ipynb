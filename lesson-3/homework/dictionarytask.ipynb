{
 "cells": [
  {
   "cell_type": "markdown",
   "metadata": {},
   "source": [
    "DICTIONARY TASKS"
   ]
  },
  {
   "cell_type": "code",
   "execution_count": null,
   "metadata": {},
   "outputs": [
    {
     "name": "stdout",
     "output_type": "stream",
     "text": [
      "key does not exist\n"
     ]
    }
   ],
   "source": [
    "#1\n",
    "try:\n",
    "    student = {\n",
    "    'name': 'Umidjon',\n",
    "    'id' : '230382',\n",
    "    'year' : '2'\n",
    "    }\n",
    "    student['yers']\n",
    "    \n",
    "except KeyError:\n",
    "    print(\"key does not exist\")\n"
   ]
  },
  {
   "cell_type": "code",
   "execution_count": 13,
   "metadata": {},
   "outputs": [
    {
     "name": "stdout",
     "output_type": "stream",
     "text": [
      "key exists\n"
     ]
    }
   ],
   "source": [
    "#2\n",
    "try:\n",
    "    student = {\n",
    "    'name': 'Umidjon',\n",
    "    'id' : '230382',\n",
    "    'year' : '2'\n",
    "    }\n",
    "    if student['year']:\n",
    "        print('key exists')\n",
    "    \n",
    "except KeyError:\n",
    "    print(\"key does not exist\")"
   ]
  },
  {
   "cell_type": "code",
   "execution_count": 16,
   "metadata": {},
   "outputs": [
    {
     "data": {
      "text/plain": [
       "3"
      ]
     },
     "execution_count": 16,
     "metadata": {},
     "output_type": "execute_result"
    }
   ],
   "source": [
    "#3\n",
    "student = {\n",
    "    'name': 'Umidjon',\n",
    "    'id' : '230382',\n",
    "    'year' : '2'\n",
    "    }\n",
    "len(student.keys())"
   ]
  },
  {
   "cell_type": "code",
   "execution_count": null,
   "metadata": {},
   "outputs": [
    {
     "data": {
      "text/plain": [
       "dict_keys(['name', 'id', 'year'])"
      ]
     },
     "execution_count": 17,
     "metadata": {},
     "output_type": "execute_result"
    }
   ],
   "source": [
    "#4\n",
    "student = {\n",
    "    'name': 'Umidjon',\n",
    "    'Studentid' : '230381',\n",
    "    'year' : '2'\n",
    "    }\n",
    "student.keys()"
   ]
  },
  {
   "cell_type": "code",
   "execution_count": 18,
   "metadata": {},
   "outputs": [
    {
     "data": {
      "text/plain": [
       "dict_values(['Umidjon', '230382', '2'])"
      ]
     },
     "execution_count": 18,
     "metadata": {},
     "output_type": "execute_result"
    }
   ],
   "source": [
    "#5\n",
    "student.values()"
   ]
  },
  {
   "cell_type": "code",
   "execution_count": 22,
   "metadata": {},
   "outputs": [
    {
     "data": {
      "text/plain": [
       "{'name': 'Umidjon',\n",
       " 'id': '230382',\n",
       " 'year': '2',\n",
       " 'age': 20,\n",
       " 'lastname': 'Khusanov'}"
      ]
     },
     "execution_count": 22,
     "metadata": {},
     "output_type": "execute_result"
    }
   ],
   "source": [
    "#6\n",
    "person = {\n",
    "    'age' : 20,\n",
    "    'lastname' : 'Khusanov'\n",
    "}\n",
    "\n",
    "student.update(person)\n",
    "student"
   ]
  },
  {
   "cell_type": "code",
   "execution_count": 30,
   "metadata": {},
   "outputs": [
    {
     "name": "stdout",
     "output_type": "stream",
     "text": [
      "{'lastname': 'Khusanov'}\n"
     ]
    }
   ],
   "source": [
    "#7\n",
    "person = {\n",
    "    'age' : 20,\n",
    "    'lastname' : 'Khusanov'\n",
    "}\n",
    "try:\n",
    "    person.pop('age')\n",
    "    print(person)\n",
    "except KeyError:\n",
    "    print(\"key does not exist\")"
   ]
  },
  {
   "cell_type": "code",
   "execution_count": 31,
   "metadata": {},
   "outputs": [
    {
     "data": {
      "text/plain": [
       "{}"
      ]
     },
     "execution_count": 31,
     "metadata": {},
     "output_type": "execute_result"
    }
   ],
   "source": [
    "#8\n",
    "person.clear()\n",
    "dict8 = person\n",
    "dict8"
   ]
  },
  {
   "cell_type": "code",
   "execution_count": 36,
   "metadata": {},
   "outputs": [
    {
     "name": "stdout",
     "output_type": "stream",
     "text": [
      "not empty\n"
     ]
    }
   ],
   "source": [
    "#9\n",
    "student = {\n",
    "    'name': 'Umidjon',\n",
    "    'Studentid' : '230381',\n",
    "    'year' : '2'\n",
    "    }\n",
    "\n",
    "tuple9 = tuple(student.items())\n",
    "if len(tuple9) == 0:\n",
    "    print('empty')\n",
    "else: print('not empty')"
   ]
  },
  {
   "cell_type": "code",
   "execution_count": null,
   "metadata": {},
   "outputs": [
    {
     "name": "stdout",
     "output_type": "stream",
     "text": [
      "key does not exist\n"
     ]
    }
   ],
   "source": [
    "#10\n",
    "a = 'lastname'\n",
    "try:\n",
    "    pair_dict = {key : student[a]}\n",
    "    print(pair_dict)\n",
    "except KeyError:\n",
    "    print('key does not exist')\n"
   ]
  },
  {
   "cell_type": "code",
   "execution_count": 49,
   "metadata": {},
   "outputs": [
    {
     "data": {
      "text/plain": [
       "{'name': 'Umidjon', 'Studentid': '230381', 'year': 3}"
      ]
     },
     "execution_count": 49,
     "metadata": {},
     "output_type": "execute_result"
    }
   ],
   "source": [
    "#11\n",
    "new_year = 3\n",
    "student.update({'year': new_year})\n",
    "student\n"
   ]
  },
  {
   "cell_type": "code",
   "execution_count": 63,
   "metadata": {},
   "outputs": [
    {
     "name": "stdout",
     "output_type": "stream",
     "text": [
      "{'name': 1, 'year': 3}\n"
     ]
    }
   ],
   "source": [
    "#12\n",
    "from collections import defaultdict\n",
    "student = [('name', 'Umidjon'), ('year', 3), ('year', 2), ('year', 100)]\n",
    "student_dict = defaultdict(list)\n",
    "for key, value in student:\n",
    "    student_dict[key].append(value)\n",
    "\n",
    "key_count = {key: len(values) for key, values in student_dict.items()}\n",
    "print(key_count)\n"
   ]
  },
  {
   "cell_type": "code",
   "execution_count": null,
   "metadata": {},
   "outputs": [
    {
     "data": {
      "text/plain": [
       "{'Umidjon': 'name', '230381': 'Studentid', '2': 'year'}"
      ]
     },
     "execution_count": 64,
     "metadata": {},
     "output_type": "execute_result"
    }
   ],
   "source": [
    "#13\n",
    "student13 = {\n",
    "    'name': 'Umidjon',\n",
    "    'Studentid' : '2',\n",
    "    'year' : 2\n",
    "    }\n",
    "\n",
    "student13_inverted = {value: key for key, value in student13.items()}\n",
    "student13_inverted"
   ]
  },
  {
   "cell_type": "code",
   "execution_count": 81,
   "metadata": {},
   "outputs": [
    {
     "data": {
      "text/plain": [
       "['Studentid', 'year']"
      ]
     },
     "execution_count": 81,
     "metadata": {},
     "output_type": "execute_result"
    }
   ],
   "source": [
    "#14\n",
    "student13 = {\n",
    "    'name': 'Umidjon',\n",
    "    'Studentid' : '2',\n",
    "    'year' : '2'\n",
    "    }\n",
    "list14 = list(student13.items())\n",
    "list14_1 = list()\n",
    "for i in range (len(list14)):\n",
    "    if list14[i][1] == '2':\n",
    "        list14_1.append(list14[i][0])\n",
    "\n",
    "list14_1"
   ]
  },
  {
   "cell_type": "code",
   "execution_count": 85,
   "metadata": {},
   "outputs": [
    {
     "data": {
      "text/plain": [
       "{'fruit': 'apple', 'vegetable': 'carrot', 'animal': 'cat'}"
      ]
     },
     "execution_count": 85,
     "metadata": {},
     "output_type": "execute_result"
    }
   ],
   "source": [
    "#15\n",
    "list15_11 = ['fruit', 'vegetable', 'animal']\n",
    "list15_12 = ['apple', 'carrot', 'cat']\n",
    "dict15 = dict()\n",
    "for key, value in zip(list15_11, list15_12):\n",
    "    dict15[key] = value\n",
    "dict15"
   ]
  },
  {
   "cell_type": "code",
   "execution_count": 99,
   "metadata": {},
   "outputs": [
    {
     "name": "stdout",
     "output_type": "stream",
     "text": [
      "not nested dict\n"
     ]
    }
   ],
   "source": [
    "#16\n",
    "dict16 = {\n",
    "    'fruit': 'apple', \n",
    "    'vegetable': 'carrot', \n",
    "    'animal': 'cat'\n",
    "    }\n",
    "count_nested = 0\n",
    "for value in dict16.values():\n",
    "    if isinstance(value, dict):\n",
    "        count_nested+=1\n",
    "if count_nested > 0:\n",
    "    print('nested dict')\n",
    "else: print('not nested dict')"
   ]
  },
  {
   "cell_type": "code",
   "execution_count": 109,
   "metadata": {},
   "outputs": [
    {
     "data": {
      "text/plain": [
       "'1'"
      ]
     },
     "execution_count": 109,
     "metadata": {},
     "output_type": "execute_result"
    }
   ],
   "source": [
    "#17\n",
    "dict17 = {\n",
    "    'fruit': {'apple': '1', 'banana': '2'}, \n",
    "    'vegetable': 'carrot', \n",
    "    'animal': {'cat':'3', 'dogs':'2'}\n",
    "    }\n",
    "\n",
    "list17_11 = list(dict17.values())\n",
    "list17_11[0]['apple']"
   ]
  },
  {
   "cell_type": "code",
   "execution_count": null,
   "metadata": {},
   "outputs": [],
   "source": [
    "#18\n",
    "from collections import defaultdict\n",
    "dict18 = defaultdict(list)"
   ]
  },
  {
   "cell_type": "code",
   "execution_count": 111,
   "metadata": {},
   "outputs": [
    {
     "data": {
      "text/plain": [
       "2"
      ]
     },
     "execution_count": 111,
     "metadata": {},
     "output_type": "execute_result"
    }
   ],
   "source": [
    "#19\n",
    "dict19 = {\n",
    "    'fruit': 'cat', \n",
    "    'vegetable': 'carrot', \n",
    "    'animal': 'cat'\n",
    "    }\n",
    "\n",
    "dict19_1 = set(dict19.values())\n",
    "len(dict19_1)"
   ]
  },
  {
   "cell_type": "code",
   "execution_count": 118,
   "metadata": {},
   "outputs": [
    {
     "data": {
      "text/plain": [
       "{'animal': 'cat', 'fruit': 'apple', 'vegetable': 'carrot'}"
      ]
     },
     "execution_count": 118,
     "metadata": {},
     "output_type": "execute_result"
    }
   ],
   "source": [
    "#20\n",
    "dict20 = {\n",
    "    'fruit': 'apple', \n",
    "    'vegetable': 'carrot', \n",
    "    'animal': 'cat'\n",
    "    }\n",
    "\n",
    "dict20_1 = sorted(list(dict20.items()))\n",
    "dict20_2 = dict(dict20_1)\n",
    "\n",
    "dict20_2"
   ]
  },
  {
   "cell_type": "code",
   "execution_count": 122,
   "metadata": {},
   "outputs": [
    {
     "data": {
      "text/plain": [
       "{'fruit': 'apple', 'vegetable': 'carrot', 'animal': 'cat'}"
      ]
     },
     "execution_count": 122,
     "metadata": {},
     "output_type": "execute_result"
    }
   ],
   "source": [
    "#21\n",
    "dict21_1 = sorted(dict20.items(), key=lambda x: x[1])\n",
    "dict21_2 = dict(dict21_1)\n",
    "dict21_2"
   ]
  },
  {
   "cell_type": "code",
   "execution_count": 126,
   "metadata": {},
   "outputs": [
    {
     "data": {
      "text/plain": [
       "defaultdict(list, {'fruit': 3, 'animal': 5})"
      ]
     },
     "execution_count": 126,
     "metadata": {},
     "output_type": "execute_result"
    }
   ],
   "source": [
    "#22\n",
    "dict22 = {\n",
    "    'fruit': 3, \n",
    "    'vegetable': 2, \n",
    "    'animal': 5\n",
    "    }\n",
    "dict22_1 = defaultdict(list)\n",
    "for key, value in dict22.items():\n",
    "    if dict22[key] > 2:\n",
    "        dict22_1[key] = value\n",
    "\n",
    "dict22_1\n"
   ]
  },
  {
   "cell_type": "code",
   "execution_count": 129,
   "metadata": {},
   "outputs": [
    {
     "name": "stdout",
     "output_type": "stream",
     "text": [
      "no common key\n"
     ]
    }
   ],
   "source": [
    "#23\n",
    "dict23_1 = {\n",
    "    'fruit': 3, \n",
    "    'vegetable': 2, \n",
    "    'animal': 5\n",
    "    }\n",
    "\n",
    "dict23_2 = {\n",
    "    'fruita': 3, \n",
    "    'vegetables': 2, \n",
    "    'animals': 5\n",
    "    }\n",
    "\n",
    "set23_1 = set(dict23_1.keys())\n",
    "set23_2 = set(dict23_2.keys())\n",
    "set23 = set23_1 & set23_2\n",
    "if len(set23) == 0:\n",
    "    print('no common key')\n",
    "else: print('common keys exist')"
   ]
  },
  {
   "cell_type": "code",
   "execution_count": 130,
   "metadata": {},
   "outputs": [
    {
     "data": {
      "text/plain": [
       "{'a': 1, 'b': 2, 'c': 3}"
      ]
     },
     "execution_count": 130,
     "metadata": {},
     "output_type": "execute_result"
    }
   ],
   "source": [
    "#24\n",
    "tuple24_11 = (('a', 1), ('b', 2), ('c', 3))\n",
    "dict24 = dict(tuple24_11)\n",
    "dict24"
   ]
  },
  {
   "cell_type": "code",
   "execution_count": 143,
   "metadata": {},
   "outputs": [
    {
     "data": {
      "text/plain": [
       "('fruit', 3)"
      ]
     },
     "execution_count": 143,
     "metadata": {},
     "output_type": "execute_result"
    }
   ],
   "source": [
    "#25\n",
    "dict25 = {\n",
    "    'fruit': 3, \n",
    "    'vegetable': 2, \n",
    "    'animal': 5\n",
    "    }\n",
    "\n",
    "tuple25_11 = tuple(dict25.items())\n",
    "tuple25_11[0]"
   ]
  },
  {
   "cell_type": "code",
   "execution_count": null,
   "metadata": {},
   "outputs": [],
   "source": []
  }
 ],
 "metadata": {
  "kernelspec": {
   "display_name": "Python 3",
   "language": "python",
   "name": "python3"
  },
  "language_info": {
   "codemirror_mode": {
    "name": "ipython",
    "version": 3
   },
   "file_extension": ".py",
   "mimetype": "text/x-python",
   "name": "python",
   "nbconvert_exporter": "python",
   "pygments_lexer": "ipython3",
   "version": "3.12.2"
  }
 },
 "nbformat": 4,
 "nbformat_minor": 2
}
