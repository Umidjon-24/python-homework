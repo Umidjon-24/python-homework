{
 "cells": [
  {
   "cell_type": "code",
   "execution_count": null,
   "metadata": {},
   "outputs": [],
   "source": [
    "import numpy as np\n",
    "from PIL import Image\n",
    "\n",
    "\n",
    "def flip_horizontal(arr):\n",
    "    arr_h = arr[:,::-1,:] # Reversing the values by axis=1\n",
    "    return arr_h\n",
    "\n",
    "def flip_vertical(arr):\n",
    "    arr_v = arr[::-1,:,:] # Reversing the values by axis=0\n",
    "    return arr_v\n",
    "\n",
    "def add_noise(arr, noise_level=50):\n",
    "    noise = np.random.randint(0, noise_level, arr.shape, dtype=np.uint8)  # Generate random noise\n",
    "    noisy_img_array = np.clip(arr + noise, 0, 255)  # Add noise and clip values to valid range\n",
    "    return noisy_img_array\n",
    "\n",
    "def brighten_Channels(arr):\n",
    "    red_value = 10 \n",
    "    green_value = 0\n",
    "    blue_value = 0\n",
    "    arr_value = np.full((720,720,3), [red_value,green_value,blue_value], dtype=np.uint8) # Generate array with brightened color\n",
    "    bright_arr = np.clip(arr+arr_value, 0, 255) #clip values to valid range\n",
    "    return bright_arr\n",
    "\n",
    "def apply_mask(arr):\n",
    "    np.shape(arr)\n",
    "    a=200\n",
    "    b=200\n",
    "    arr[360-a//2:360+a//2,360-a//2:360+a//2,:] = [0,0,0] # Applying the mask to the middle of an image\n",
    "    return arr\n",
    "\n",
    "def save_img(arr, name, mode):\n",
    "    img = Image.fromarray(arr, mode) # Converting to image\n",
    "    img.save(f'{name}.jpg') # Storing it as a jpg file to current directory\n",
    "\n",
    "with Image.open('birds.jpg') as img:\n",
    "    arr = np.array(img)\n",
    "    #print(arr)\n",
    "\n",
    "save_img(apply_mask(arr), \"masked_img\", mode='RGB')"
   ]
  },
  {
   "cell_type": "code",
   "execution_count": null,
   "metadata": {},
   "outputs": [],
   "source": []
  }
 ],
 "metadata": {
  "kernelspec": {
   "display_name": "Python 3",
   "language": "python",
   "name": "python3"
  },
  "language_info": {
   "codemirror_mode": {
    "name": "ipython",
    "version": 3
   },
   "file_extension": ".py",
   "mimetype": "text/x-python",
   "name": "python",
   "nbconvert_exporter": "python",
   "pygments_lexer": "ipython3",
   "version": "3.12.2"
  }
 },
 "nbformat": 4,
 "nbformat_minor": 2
}
