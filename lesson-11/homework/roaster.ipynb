{
 "cells": [
  {
   "cell_type": "code",
   "execution_count": null,
   "metadata": {},
   "outputs": [
    {
     "ename": "OperationalError",
     "evalue": "table Roaster already exists",
     "output_type": "error",
     "traceback": [
      "\u001b[1;31m---------------------------------------------------------------------------\u001b[0m",
      "\u001b[1;31mOperationalError\u001b[0m                          Traceback (most recent call last)",
      "Cell \u001b[1;32mIn[5], line 6\u001b[0m\n\u001b[0;32m      4\u001b[0m cursor \u001b[38;5;241m=\u001b[39m connection\u001b[38;5;241m.\u001b[39mcursor()\n\u001b[0;32m      5\u001b[0m query \u001b[38;5;241m=\u001b[39m \u001b[38;5;124m\"\u001b[39m\u001b[38;5;124mCREATE TABLE Roaster(\u001b[39m\u001b[38;5;124m'\u001b[39m\u001b[38;5;124mName\u001b[39m\u001b[38;5;124m'\u001b[39m\u001b[38;5;124m TEXT, \u001b[39m\u001b[38;5;124m'\u001b[39m\u001b[38;5;124mSpecies\u001b[39m\u001b[38;5;124m'\u001b[39m\u001b[38;5;124m TEXT, \u001b[39m\u001b[38;5;124m'\u001b[39m\u001b[38;5;124mAge\u001b[39m\u001b[38;5;124m'\u001b[39m\u001b[38;5;124m INT)\u001b[39m\u001b[38;5;124m\"\u001b[39m\n\u001b[1;32m----> 6\u001b[0m \u001b[43mcursor\u001b[49m\u001b[38;5;241;43m.\u001b[39;49m\u001b[43mexecute\u001b[49m\u001b[43m(\u001b[49m\u001b[43mquery\u001b[49m\u001b[43m)\u001b[49m\n",
      "\u001b[1;31mOperationalError\u001b[0m: table Roaster already exists"
     ]
    }
   ],
   "source": [
    "#Creating table\n",
    "import sqlite3\n",
    "\n",
    "with sqlite3.connect('roaster.db') as connection:\n",
    "    cursor = connection.cursor()\n",
    "    query = \"CREATE TABLE Roaster('Name' TEXT, 'Species' TEXT, 'Age' INT)\"\n",
    "    cursor.execute(query)"
   ]
  },
  {
   "cell_type": "code",
   "execution_count": null,
   "metadata": {},
   "outputs": [],
   "source": [
    "#Inseting values into table\n",
    "import sqlite3\n",
    "with sqlite3.connect('roaster.db') as connection:\n",
    "    cursor = connection.cursor()\n",
    "    roaster_values = (('Benjamin Sisko', 'Human', 40), ('Jadzia Dax', 'Trill', 300), ('Kira Nerys','Bajoran', 29))\n",
    "    cursor.executemany(\"INSERT INTO Roaster VALUES(?,?,?);\", roaster_values)"
   ]
  },
  {
   "cell_type": "code",
   "execution_count": null,
   "metadata": {},
   "outputs": [],
   "source": [
    "#Updating data\n",
    "cursor.execute(\"UPDATE Roaster SET Name=? WHERE Species=? AND Age=?;\", ('Ezri Dax', 'Trill', 300))\n",
    "connection.commit()"
   ]
  },
  {
   "cell_type": "code",
   "execution_count": 11,
   "metadata": {},
   "outputs": [
    {
     "name": "stdout",
     "output_type": "stream",
     "text": [
      "('Kira Nerys', 29)\n"
     ]
    }
   ],
   "source": [
    "#Query data\n",
    "cursor.execute(\n",
    "\"SELECT Name, Age FROM Roaster WHERE Species = 'Bajoran';\"\n",
    ")\n",
    "for row in cursor.fetchall():\n",
    "    print(row)"
   ]
  },
  {
   "cell_type": "code",
   "execution_count": 13,
   "metadata": {},
   "outputs": [],
   "source": [
    "#Delete data\n",
    "cursor.execute(\"DELETE FROM Roaster WHERE age>100\")\n",
    "connection.commit()"
   ]
  },
  {
   "cell_type": "code",
   "execution_count": null,
   "metadata": {},
   "outputs": [],
   "source": [
    "#Adding RANK\n",
    "#cursor.execute(\"ALTER TABLE Roaster ADD COLUMN 'Rank' TEXT\")\n",
    "cursor.execute(\"UPDATE Roaster SET Rank = 'Captain' WHERE Name = 'Benjamin Sisko';\")\n",
    "cursor.execute(\"UPDATE Roaster SET Rank = 'Lieutenant' WHERE Name = 'Ezri Dax';\")\n",
    "cursor.execute(\"UPDATE Roaster SET Rank = 'Major' WHERE Name = 'Kira Nerys';\")\n",
    "connection.commit()"
   ]
  },
  {
   "cell_type": "code",
   "execution_count": 22,
   "metadata": {},
   "outputs": [
    {
     "name": "stdout",
     "output_type": "stream",
     "text": [
      "('Ezri Dax', 'Lieutenant', 'Lieutenant')\n",
      "('Benjamin Sisko', 'Human', 'Captain')\n",
      "('Kira Nerys', 'Bajoran', 'Major')\n"
     ]
    }
   ],
   "source": [
    "#Retrieving data\n",
    "cursor.execute(\n",
    "\"SELECT Name, Species, Rank FROM Roaster ORDER BY Age DESC;\"\n",
    ")\n",
    "for row in cursor.fetchall():\n",
    "    print(row)"
   ]
  },
  {
   "cell_type": "code",
   "execution_count": 20,
   "metadata": {},
   "outputs": [],
   "source": [
    "values = ('Ezri Dax', 'Lieutenant', 300, 'Lieutenant')\n",
    "cursor.execute(\"INSERT INTO Roaster VALUES(?,?,?,?)\", values)\n",
    "connection.commit()"
   ]
  },
  {
   "cell_type": "code",
   "execution_count": null,
   "metadata": {},
   "outputs": [],
   "source": []
  }
 ],
 "metadata": {
  "kernelspec": {
   "display_name": "Python 3",
   "language": "python",
   "name": "python3"
  },
  "language_info": {
   "codemirror_mode": {
    "name": "ipython",
    "version": 3
   },
   "file_extension": ".py",
   "mimetype": "text/x-python",
   "name": "python",
   "nbconvert_exporter": "python",
   "pygments_lexer": "ipython3",
   "version": "3.12.2"
  }
 },
 "nbformat": 4,
 "nbformat_minor": 2
}
