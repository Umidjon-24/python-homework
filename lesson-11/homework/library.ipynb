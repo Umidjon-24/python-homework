{
 "cells": [
  {
   "cell_type": "code",
   "execution_count": 1,
   "metadata": {},
   "outputs": [],
   "source": [
    "import sqlite3\n",
    "\n",
    "with sqlite3.connect('library.db') as connection:\n",
    "    query = \"CREATE TABLE Books('Title' TEXT, 'Author' TEXT, 'Year_Published' INT, 'Genre' TEXT)\"\n",
    "    cursor = connection.cursor()\n",
    "    cursor.execute(query)"
   ]
  },
  {
   "cell_type": "code",
   "execution_count": 2,
   "metadata": {},
   "outputs": [],
   "source": [
    "values = (('To Kill a Mockingbird','Harper Lee',1960,'Fiction'), ('1984','George Orwell',1949,'Dystopian'), ('The Great Gatsby','F. Scott Fitzgerald',1925,'Classic'))\n",
    "\n",
    "cursor.executemany(\"INSERT INTO Books VALUES(?,?,?,?);\", values)\n",
    "connection.commit()"
   ]
  },
  {
   "cell_type": "code",
   "execution_count": 4,
   "metadata": {},
   "outputs": [],
   "source": [
    "cursor.execute(\"UPDATE Books SET [Year_Published]=1950 WHERE [Title]='1984'\")\n",
    "connection.commit()"
   ]
  },
  {
   "cell_type": "code",
   "execution_count": 5,
   "metadata": {},
   "outputs": [
    {
     "name": "stdout",
     "output_type": "stream",
     "text": [
      "('1984', 'George Orwell')\n"
     ]
    }
   ],
   "source": [
    "cursor.execute(\"SELECT Title, Author FROM Books WHERE Genre='Dystopian'\")\n",
    "for row in cursor.fetchall():\n",
    "    print(row)"
   ]
  },
  {
   "cell_type": "code",
   "execution_count": 13,
   "metadata": {},
   "outputs": [],
   "source": [
    "cursor.execute(\"DELETE FROM Books WHERE Year_Published<1950\")\n",
    "connection.commit()"
   ]
  },
  {
   "cell_type": "code",
   "execution_count": 14,
   "metadata": {},
   "outputs": [],
   "source": [
    "cursor.execute(\"INSERT INTO Books VALUES(?,?,?,?)\", ('The Great Gatsby','F. Scott Fitzgerald',1925,'Classic'))\n",
    "connection.commit()"
   ]
  },
  {
   "cell_type": "code",
   "execution_count": 15,
   "metadata": {},
   "outputs": [],
   "source": [
    "cursor.execute(\"ALTER TABLE Books ADD COLUMN 'Rating' FLOAT\")\n",
    "cursor.execute(\"UPDATE Books SET Rating = 4.8 WHERE Title = 'To Kill a Mockingbird';\")\n",
    "cursor.execute(\"UPDATE Books SET Rating = 4.7 WHERE Title = '1984';\")\n",
    "cursor.execute(\"UPDATE Books SET Rating = 4.5 WHERE Title = 'The Great Gatsby';\")\n",
    "connection.commit()"
   ]
  },
  {
   "cell_type": "code",
   "execution_count": 16,
   "metadata": {},
   "outputs": [
    {
     "name": "stdout",
     "output_type": "stream",
     "text": [
      "('The Great Gatsby', 'F. Scott Fitzgerald', 'Classic')\n",
      "('1984', 'George Orwell', 'Dystopian')\n",
      "('To Kill a Mockingbird', 'Harper Lee', 'Fiction')\n"
     ]
    }
   ],
   "source": [
    "#Retrieving data\n",
    "cursor.execute(\n",
    "\"SELECT Title, Author, Genre FROM Books ORDER BY Year_Published ASC;\"\n",
    ")\n",
    "for row in cursor.fetchall():\n",
    "    print(row)"
   ]
  }
 ],
 "metadata": {
  "kernelspec": {
   "display_name": "Python 3",
   "language": "python",
   "name": "python3"
  },
  "language_info": {
   "codemirror_mode": {
    "name": "ipython",
    "version": 3
   },
   "file_extension": ".py",
   "mimetype": "text/x-python",
   "name": "python",
   "nbconvert_exporter": "python",
   "pygments_lexer": "ipython3",
   "version": "3.12.2"
  }
 },
 "nbformat": 4,
 "nbformat_minor": 2
}
