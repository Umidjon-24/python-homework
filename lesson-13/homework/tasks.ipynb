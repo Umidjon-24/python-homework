{
 "cells": [
  {
   "cell_type": "code",
   "execution_count": 2,
   "metadata": {},
   "outputs": [
    {
     "data": {
      "text/plain": [
       "array([10, 11, 12, 13, 14, 15, 16, 17, 18, 19, 20, 21, 22, 23, 24, 25, 26,\n",
       "       27, 28, 29, 30, 31, 32, 33, 34, 35, 36, 37, 38, 39, 40, 41, 42, 43,\n",
       "       44, 45, 46, 47, 48, 49])"
      ]
     },
     "execution_count": 2,
     "metadata": {},
     "output_type": "execute_result"
    }
   ],
   "source": [
    "#Task1\n",
    "import numpy as np\n",
    "\n",
    "np.arange(10, 50)"
   ]
  },
  {
   "cell_type": "code",
   "execution_count": 3,
   "metadata": {},
   "outputs": [
    {
     "name": "stdout",
     "output_type": "stream",
     "text": [
      "[[0 1 2]\n",
      " [3 4 5]\n",
      " [6 7 8]]\n"
     ]
    }
   ],
   "source": [
    "#Task2\n",
    "arr2 = np.arange(0, 9)\n",
    "a2 = arr2.reshape(3, 3)\n",
    "print(a2)"
   ]
  },
  {
   "cell_type": "code",
   "execution_count": 29,
   "metadata": {},
   "outputs": [
    {
     "name": "stdout",
     "output_type": "stream",
     "text": [
      "[[1 0 0]\n",
      " [0 1 0]\n",
      " [0 0 1]]\n"
     ]
    }
   ],
   "source": [
    "#Task3\n",
    "arr3 = np.eye(3, dtype=int)\n",
    "print(arr3)"
   ]
  },
  {
   "cell_type": "code",
   "execution_count": 39,
   "metadata": {},
   "outputs": [
    {
     "name": "stdout",
     "output_type": "stream",
     "text": [
      "[[[0.95746814 0.40866922 0.72135129]\n",
      "  [0.10035254 0.25871006 0.25443216]\n",
      "  [0.6147929  0.89159475 0.86504397]]\n",
      "\n",
      " [[0.91283342 0.4157781  0.04182445]\n",
      "  [0.8587963  0.67080579 0.64631425]\n",
      "  [0.02621918 0.04203435 0.50487193]]\n",
      "\n",
      " [[0.86461203 0.68681761 0.8181757 ]\n",
      "  [0.1332607  0.09574087 0.15379386]\n",
      "  [0.6376202  0.39344704 0.67912863]]]\n"
     ]
    }
   ],
   "source": [
    "#Task4\n",
    "arr4 = np.random.rand(3,3,3)\n",
    "print(arr4)"
   ]
  },
  {
   "cell_type": "code",
   "execution_count": 40,
   "metadata": {},
   "outputs": [
    {
     "name": "stdout",
     "output_type": "stream",
     "text": [
      "[[0.71981693 0.05295395 0.49271335 0.50268427 0.36871313 0.39262744\n",
      "  0.865147   0.42602728 0.90932356 0.66165494]\n",
      " [0.19124689 0.88040229 0.35460381 0.89996904 0.99115194 0.44466381\n",
      "  0.92052195 0.71626316 0.09125347 0.63795445]\n",
      " [0.04088202 0.31706176 0.9864137  0.80035985 0.66599007 0.77818161\n",
      "  0.83458292 0.07564747 0.51019218 0.44276948]\n",
      " [0.88498718 0.55804285 0.51148969 0.22874411 0.34551503 0.2044362\n",
      "  0.49651774 0.14417137 0.08202343 0.25534968]\n",
      " [0.98693482 0.67620683 0.53559145 0.95426181 0.7635937  0.41669084\n",
      "  0.7350574  0.54447499 0.41804618 0.91974842]\n",
      " [0.55838921 0.51190637 0.60372235 0.6491167  0.00692045 0.57957797\n",
      "  0.53287728 0.95295639 0.94929819 0.88816389]\n",
      " [0.51779774 0.71512703 0.64482184 0.39089217 0.86701074 0.7122184\n",
      "  0.16929243 0.69980403 0.2663545  0.27205107]\n",
      " [0.95311264 0.23923244 0.92931383 0.12061367 0.04157287 0.6734919\n",
      "  0.25048238 0.7352503  0.46516043 0.68672288]\n",
      " [0.19659538 0.43092271 0.09240501 0.88463676 0.42043011 0.49780743\n",
      "  0.32476037 0.68773902 0.13888609 0.5197808 ]\n",
      " [0.16762298 0.28844363 0.9633688  0.74134757 0.16779883 0.37258212\n",
      "  0.73917259 0.06910442 0.5897271  0.08710091]]\n",
      "0.006920445778939244\n",
      "0.9911519421841871\n"
     ]
    }
   ],
   "source": [
    "#Task5\n",
    "arr5 = np.random.rand(10,10)\n",
    "print(arr5)\n",
    "print(arr5.min())\n",
    "print(arr5.max())"
   ]
  },
  {
   "cell_type": "code",
   "execution_count": 42,
   "metadata": {},
   "outputs": [
    {
     "name": "stdout",
     "output_type": "stream",
     "text": [
      "[0.02099063 0.43461895 0.20087206 0.28087762 0.80101636 0.6779075\n",
      " 0.75930849 0.47068847 0.81272225 0.57317137 0.60693559 0.09715014\n",
      " 0.74048281 0.76527151 0.80717145 0.21094957 0.73623342 0.80959334\n",
      " 0.49497417 0.58022893 0.77085642 0.01675952 0.63813645 0.86647461\n",
      " 0.91397405 0.1337551  0.71800932 0.2710465  0.37345689 0.27012555]\n",
      "0.5284586362550543\n"
     ]
    }
   ],
   "source": [
    "#Task6\n",
    "vector = np.random.rand(30)\n",
    "print(vector)\n",
    "print(vector.mean())"
   ]
  },
  {
   "cell_type": "code",
   "execution_count": null,
   "metadata": {},
   "outputs": [
    {
     "name": "stdout",
     "output_type": "stream",
     "text": [
      "[[0.22222222 0.11111111 0.44444444 1.         0.88888889]\n",
      " [0.22222222 0.77777778 0.11111111 0.         0.55555556]\n",
      " [0.22222222 0.88888889 0.22222222 0.         0.88888889]\n",
      " [0.55555556 0.11111111 0.22222222 0.55555556 0.        ]\n",
      " [0.88888889 0.22222222 0.         0.88888889 0.11111111]]\n"
     ]
    }
   ],
   "source": [
    "#Task7\n",
    "#Min-Max Normalization\n",
    "arr7 = np.random.randint(0, 10, size=(5,5), dtype=int)\n",
    "\n",
    "normalized = (arr7 - arr7.min()) / (arr7.max() - arr7.min())\n",
    "print(normalized)"
   ]
  },
  {
   "cell_type": "code",
   "execution_count": 47,
   "metadata": {},
   "outputs": [
    {
     "name": "stdout",
     "output_type": "stream",
     "text": [
      "[[ 65  22]\n",
      " [ 87  36]\n",
      " [ 85  31]\n",
      " [113  45]\n",
      " [ 62  24]]\n"
     ]
    }
   ],
   "source": [
    "#Task8\n",
    "arr8_1 = np.random.randint(0, 10, size=(5,3), dtype=int)\n",
    "arr8_2 = np.random.randint(0, 10, size=(3,2), dtype=int)\n",
    "\n",
    "result = np.dot(arr8_1, arr8_2)\n",
    "print(result)"
   ]
  },
  {
   "cell_type": "code",
   "execution_count": 49,
   "metadata": {},
   "outputs": [
    {
     "name": "stdout",
     "output_type": "stream",
     "text": [
      "[[ 72  84  96]\n",
      " [ 75  90 105]\n",
      " [ 78  96 114]]\n"
     ]
    }
   ],
   "source": [
    "#Task9\n",
    "arr9_1 = np.array([\n",
    "    [1, 2, 9],\n",
    "    [3, 4, 8],\n",
    "    [5, 6, 7]\n",
    "])\n",
    "\n",
    "arr9_2 = np.array([\n",
    "    [1, 2, 3],\n",
    "    [4, 5, 6],\n",
    "    [7, 8, 9]\n",
    "])\n",
    "\n",
    "result = arr9_1.dot(arr9_2)\n",
    "print(result)"
   ]
  },
  {
   "cell_type": "code",
   "execution_count": null,
   "metadata": {},
   "outputs": [
    {
     "name": "stdout",
     "output_type": "stream",
     "text": [
      "[[3 0 1 0]\n",
      " [3 3 7 7]\n",
      " [0 3 7 1]\n",
      " [5 0 1 3]]\n",
      "[[3 3 0 5]\n",
      " [0 3 3 0]\n",
      " [1 7 7 1]\n",
      " [0 7 1 3]]\n"
     ]
    }
   ],
   "source": [
    "#Task10\n",
    "arr10 = np.random.randint(0, 10, size=(4,4), dtype=int)\n",
    "print(arr10.T)"
   ]
  },
  {
   "cell_type": "code",
   "execution_count": 53,
   "metadata": {},
   "outputs": [
    {
     "name": "stdout",
     "output_type": "stream",
     "text": [
      "-88.00000000000003\n"
     ]
    }
   ],
   "source": [
    "#Task11\n",
    "arr11 = np.random.randint(0, 10, size=(3,3), dtype=int)\n",
    "det = np.linalg.det(arr11)\n",
    "print(det)"
   ]
  },
  {
   "cell_type": "code",
   "execution_count": 54,
   "metadata": {},
   "outputs": [
    {
     "name": "stdout",
     "output_type": "stream",
     "text": [
      "[[ 96 155 130]\n",
      " [ 83 121 145]\n",
      " [ 67 134 108]]\n"
     ]
    }
   ],
   "source": [
    "#Task12\n",
    "A = np.random.randint(0, 10, size=(3,4), dtype=int)\n",
    "B = np.random.randint(0, 10, size=(4,3), dtype=int)\n",
    "\n",
    "result = np.dot(A, B)\n",
    "print(result)"
   ]
  },
  {
   "cell_type": "code",
   "execution_count": 57,
   "metadata": {},
   "outputs": [
    {
     "name": "stdout",
     "output_type": "stream",
     "text": [
      "[[99]\n",
      " [67]\n",
      " [25]]\n"
     ]
    }
   ],
   "source": [
    "#Task13\n",
    "matrix = np.random.randint(0, 10, size=(3,3), dtype=int)\n",
    "column_vector = np.random.randint(0, 10, size=(3,1), dtype=int)\n",
    "\n",
    "result = np.dot(matrix, column_vector)\n",
    "print(result)"
   ]
  },
  {
   "cell_type": "code",
   "execution_count": 58,
   "metadata": {},
   "outputs": [
    {
     "name": "stdout",
     "output_type": "stream",
     "text": [
      "[[29]\n",
      " [24]\n",
      " [30]]\n"
     ]
    }
   ],
   "source": [
    "#Task14\n",
    "A = np.random.randint(0, 10, size=(3,3), dtype=int)\n",
    "b = np.random.randint(0, 10, size=(3,1), dtype=int)\n",
    "\n",
    "x = A.transpose().dot(b)\n",
    "print(x)"
   ]
  },
  {
   "cell_type": "code",
   "execution_count": null,
   "metadata": {},
   "outputs": [
    {
     "name": "stdout",
     "output_type": "stream",
     "text": [
      "[[6 8 8 3 6]\n",
      " [1 4 5 3 4]\n",
      " [4 2 8 4 6]\n",
      " [8 6 5 4 9]\n",
      " [2 5 7 8 4]]\n",
      "[31 17 24 32 26]\n",
      "[21 25 33 22 29]\n"
     ]
    }
   ],
   "source": [
    "#Task15\n",
    "arr15 = np.array([\n",
    "        [6,8,8,3,6],\n",
    "        [1,4,5,3,4],\n",
    "        [4,2,8,4,6],\n",
    "        [8,6,5,4,9],\n",
    "        [2,5,7,8,4]])\n",
    "\n",
    "print(arr15.sum(axis=1)) #Row-wise sum\n",
    "print(arr15.sum(axis=0)) #Column-wise sum"
   ]
  }
 ],
 "metadata": {
  "kernelspec": {
   "display_name": "Python 3",
   "language": "python",
   "name": "python3"
  },
  "language_info": {
   "codemirror_mode": {
    "name": "ipython",
    "version": 3
   },
   "file_extension": ".py",
   "mimetype": "text/x-python",
   "name": "python",
   "nbconvert_exporter": "python",
   "pygments_lexer": "ipython3",
   "version": "3.12.2"
  }
 },
 "nbformat": 4,
 "nbformat_minor": 2
}
